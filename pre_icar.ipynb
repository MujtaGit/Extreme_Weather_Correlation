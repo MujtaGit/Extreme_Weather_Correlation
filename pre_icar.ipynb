{
 "cells": [
  {
   "cell_type": "markdown",
   "metadata": {},
   "source": [
    "This notebook is used to create the index arrays for our edges after spatial reduction to fit our model in stan in R."
   ]
  },
  {
   "cell_type": "code",
   "execution_count": 89,
   "metadata": {},
   "outputs": [],
   "source": [
    "import xarray as xr\n",
    "import numpy as np"
   ]
  },
  {
   "cell_type": "code",
   "execution_count": 90,
   "metadata": {},
   "outputs": [],
   "source": [
    "tp_quantile = 0.0013141632\n",
    "ws10_quantile = 11.48831558227539"
   ]
  },
  {
   "cell_type": "markdown",
   "metadata": {},
   "source": [
    "Let us analyse hurricane Michael for now."
   ]
  },
  {
   "cell_type": "code",
   "execution_count": 91,
   "metadata": {},
   "outputs": [
    {
     "name": "stderr",
     "output_type": "stream",
     "text": [
      "Ignoring index file '../data_grib/ABBY_1968_07.grib.5b7b6.idx' incompatible with GRIB file\n"
     ]
    },
    {
     "name": "stderr",
     "output_type": "stream",
     "text": [
      "Ignoring index file '../data_grib/ABBY_1968_07.grib.5b7b6.idx' incompatible with GRIB file\n"
     ]
    }
   ],
   "source": [
    "speeds = xr.open_dataset(\"../data_grib/ABBY_1968_07.grib\", engine='cfgrib', backend_kwargs={'filter_by_keys': {'paramId': [165, 166]}})\n",
    "rainfall = xr.open_dataset(\"../data_grib/ABBY_1968_07.grib\", engine='cfgrib', backend_kwargs={'filter_by_keys': {'paramId': [228]}})\n",
    "\n",
    "speeds = speeds.to_dataframe()\n",
    "rainfall = rainfall.to_dataframe()\n",
    "\n",
    "u_speed = speeds.u10\n",
    "v_speed = speeds.v10\n",
    "ws10 = np.sqrt(u_speed**2 + v_speed**2)\n",
    "\n",
    "speeds[\"ws10\"] = ws10\n",
    "\n",
    "mask_ws10 = speeds['ws10'] > ws10_quantile\n",
    "mask_tp = rainfall['tp'] > tp_quantile\n",
    "\n",
    "temp = mask_ws10.groupby([\"latitude\", \"longitude\"]).sum()\n",
    "mask_ws10_average = temp > 0\n",
    "\n",
    "temp = mask_tp.groupby([\"latitude\", \"longitude\"]).sum()\n",
    "mask_tp_average = temp > 0\n",
    "\n",
    "combined_mask = mask_ws10_average & mask_tp_average"
   ]
  },
  {
   "cell_type": "code",
   "execution_count": 92,
   "metadata": {},
   "outputs": [],
   "source": [
    "mask = combined_mask.unstack()\n",
    "lat = mask.index.values\n",
    "lon = mask.columns.values"
   ]
  },
  {
   "cell_type": "code",
   "execution_count": 93,
   "metadata": {},
   "outputs": [
    {
     "data": {
      "text/plain": [
       "array([[0., 0., 0., ..., 0., 0., 0.],\n",
       "       [0., 0., 0., ..., 0., 0., 0.],\n",
       "       [0., 0., 0., ..., 0., 0., 0.],\n",
       "       ...,\n",
       "       [0., 0., 0., ..., 0., 0., 0.],\n",
       "       [0., 0., 0., ..., 0., 0., 0.],\n",
       "       [0., 0., 0., ..., 0., 0., 0.]], shape=(4141, 4141))"
      ]
     },
     "execution_count": 93,
     "metadata": {},
     "output_type": "execute_result"
    }
   ],
   "source": [
    "# Initialise our adjacency matrix which would be NxN\n",
    "\n",
    "N = len(lat)*len(lon)\n",
    "adj = np.zeros((N, N))\n",
    "\n",
    "adj"
   ]
  },
  {
   "cell_type": "code",
   "execution_count": 94,
   "metadata": {},
   "outputs": [],
   "source": [
    "# Define a function to check if node i is kept after spatial reduction\n",
    "\n",
    "lat_temp = lat[::-1]\n",
    "\n",
    "def retained(mask, i):\n",
    "\n",
    "    lat_i = i % len(lat)\n",
    "    lon_i = i // len(lat)\n",
    "\n",
    "    return mask.loc[lat_temp[lat_i], lon[lon_i]]"
   ]
  },
  {
   "cell_type": "code",
   "execution_count": 95,
   "metadata": {},
   "outputs": [],
   "source": [
    "# Start filling out the matrix where Aij = 1 if i and j are neighbours\n",
    "# Start from top left of the map i.e lon = 95, lat = 32 and go down\n",
    "\n",
    "i,j = 0,0\n",
    "\n",
    "# Fill in the upper triangular of the matrix\n",
    "\n",
    "for i in range(0,N):\n",
    "\n",
    "    #Check if node i is retained\n",
    "\n",
    "    if retained(mask, i):\n",
    "\n",
    "        for j in range(i+1,N):\n",
    "            \n",
    "            # Check if node j is retained\n",
    "                \n",
    "            if retained(mask, j):\n",
    "\n",
    "                # Check if nodes i and j are neigbours\n",
    "\n",
    "                lat_i, lon_i = i % len(lat), i // len(lat)\n",
    "                lat_j, lon_j = j % len(lat), j // len(lat)\n",
    "\n",
    "                if lat_i == lat_j and abs(lon_j - lon_i) == 1:\n",
    "\n",
    "                    adj[i,j] = 1\n",
    "\n",
    "                elif lon_i == lon_j and abs(lat_i - lat_j) == 1:\n",
    "\n",
    "                    adj[i,j] = 1\n"
   ]
  },
  {
   "cell_type": "code",
   "execution_count": 96,
   "metadata": {},
   "outputs": [],
   "source": [
    "# Filling in the lower triangular\n",
    "adj_complete = adj + adj.T"
   ]
  },
  {
   "cell_type": "markdown",
   "metadata": {},
   "source": [
    "Now I want to convert the Adjacency Matrix into two lists defining all our edges."
   ]
  },
  {
   "cell_type": "code",
   "execution_count": 97,
   "metadata": {},
   "outputs": [
    {
     "data": {
      "text/plain": [
       "306"
      ]
     },
     "execution_count": 97,
     "metadata": {},
     "output_type": "execute_result"
    }
   ],
   "source": [
    "N_edges = int(adj.sum())\n",
    "N_edges"
   ]
  },
  {
   "cell_type": "code",
   "execution_count": 98,
   "metadata": {},
   "outputs": [],
   "source": [
    "node1 = np.zeros(N_edges)\n",
    "node2 = np.zeros(N_edges)"
   ]
  },
  {
   "cell_type": "code",
   "execution_count": 99,
   "metadata": {},
   "outputs": [
    {
     "data": {
      "text/plain": [
       "array([0., 0., 0., ..., 0., 0., 0.], shape=(4141,))"
      ]
     },
     "execution_count": 99,
     "metadata": {},
     "output_type": "execute_result"
    }
   ],
   "source": [
    "# This is the number of neighbours each node has, we are using the upper triangular to avoid a double count\n",
    "# i.e if nodes 3 and 9 are neigbours, we will only consider 3 --> 9 and not 9 --> 3.\n",
    "neighbours = adj.sum(axis=1)\n",
    "neighbours"
   ]
  },
  {
   "cell_type": "code",
   "execution_count": 100,
   "metadata": {},
   "outputs": [],
   "source": [
    "i = 0\n",
    "\n",
    "for k in range(len(neighbours)):\n",
    "\n",
    "    count = int(neighbours[k])\n",
    "    \n",
    "    if count != 0:\n",
    "\n",
    "        locations = np.nonzero(adj[k])\n",
    "\n",
    "        for m in range(count):\n",
    "\n",
    "            # node1 stores the start index of the edges\n",
    "            node1[i] = k+1\n",
    "\n",
    "            # node2 stores the end index of the edges\n",
    "            node2[i] = locations[0][m] + 1\n",
    "\n",
    "            i += 1 "
   ]
  },
  {
   "cell_type": "code",
   "execution_count": 101,
   "metadata": {},
   "outputs": [
    {
     "data": {
      "text/plain": [
       "array([2299., 2339., 2339., 2340., 2379., 2379., 2380., 2380., 2381.,\n",
       "       2386., 2386., 2387., 2420., 2420., 2421., 2421., 2422., 2422.,\n",
       "       2423., 2423., 2424., 2424., 2425., 2425., 2426., 2426., 2427.,\n",
       "       2427., 2428., 2461., 2461., 2462., 2462., 2463., 2463., 2464.,\n",
       "       2464., 2465., 2465., 2466., 2466., 2467., 2467., 2468., 2468.,\n",
       "       2469., 2469., 2470., 2502., 2502., 2503., 2503., 2504., 2504.,\n",
       "       2505., 2505., 2506., 2506., 2507., 2507., 2508., 2508., 2509.,\n",
       "       2509., 2510., 2510., 2511., 2511., 2512., 2543., 2543., 2544.,\n",
       "       2544., 2545., 2545., 2546., 2546., 2547., 2547., 2548., 2548.,\n",
       "       2549., 2549., 2550., 2550., 2551., 2551., 2552., 2552., 2553.,\n",
       "       2553., 2554., 2584., 2584., 2585., 2585., 2586., 2586., 2587.,\n",
       "       2587., 2588., 2588., 2589., 2589., 2590., 2590., 2591., 2591.,\n",
       "       2592., 2592., 2593., 2593., 2594., 2594., 2595., 2595., 2596.,\n",
       "       2625., 2626., 2626., 2627., 2627., 2628., 2629., 2629., 2630.,\n",
       "       2630., 2631., 2631., 2632., 2632., 2633., 2633., 2634., 2634.,\n",
       "       2635., 2635., 2636., 2636., 2637., 2637., 2638., 2638., 2639.,\n",
       "       2639., 2640., 2667., 2667., 2668., 2670., 2670., 2671., 2671.,\n",
       "       2672., 2672., 2673., 2673., 2674., 2674., 2675., 2675., 2676.,\n",
       "       2676., 2677., 2677., 2678., 2678., 2679., 2679., 2680., 2680.,\n",
       "       2681., 2681., 2682., 2707., 2707., 2708., 2708., 2709., 2709.,\n",
       "       2710., 2710., 2711., 2711., 2712., 2712., 2713., 2713., 2714.,\n",
       "       2714., 2715., 2715., 2716., 2716., 2717., 2718., 2719., 2720.,\n",
       "       2720., 2721., 2721., 2722., 2748., 2748., 2749., 2749., 2750.,\n",
       "       2751., 2751., 2752., 2752., 2753., 2753., 2754., 2754., 2755.,\n",
       "       2755., 2756., 2761., 2761., 2762., 2762., 2789., 2789., 2790.,\n",
       "       2792., 2792., 2793., 2793., 2794., 2794., 2795., 2795., 2796.,\n",
       "       2802., 2830., 2830., 2831., 2831., 2832., 2832., 2833., 2833.,\n",
       "       2834., 2834., 2835., 2835., 2836., 2836., 2837., 2871., 2871.,\n",
       "       2872., 2872., 2873., 2873., 2874., 2874., 2875., 2875., 2876.,\n",
       "       2876., 2877., 2878., 2912., 2913., 2913., 2914., 2914., 2915.,\n",
       "       2915., 2916., 2916., 2917., 2954., 2954., 2955., 2955., 2956.,\n",
       "       2956., 2957., 2957., 2958., 2995., 2995., 2996., 2996., 2997.,\n",
       "       2997., 2998., 2998., 2999., 3036., 3036., 3037., 3037., 3038.,\n",
       "       3038., 3039., 3039., 3040., 3077., 3078., 3078., 3079., 3080.])"
      ]
     },
     "execution_count": 101,
     "metadata": {},
     "output_type": "execute_result"
    }
   ],
   "source": [
    "node1"
   ]
  },
  {
   "cell_type": "code",
   "execution_count": 102,
   "metadata": {},
   "outputs": [
    {
     "data": {
      "text/plain": [
       "array([2340., 2340., 2380., 2381., 2380., 2420., 2381., 2421., 2422.,\n",
       "       2387., 2427., 2428., 2421., 2461., 2422., 2462., 2423., 2463.,\n",
       "       2424., 2464., 2425., 2465., 2426., 2466., 2427., 2467., 2428.,\n",
       "       2468., 2469., 2462., 2502., 2463., 2503., 2464., 2504., 2465.,\n",
       "       2505., 2466., 2506., 2467., 2507., 2468., 2508., 2469., 2509.,\n",
       "       2470., 2510., 2511., 2503., 2543., 2504., 2544., 2505., 2545.,\n",
       "       2506., 2546., 2507., 2547., 2508., 2548., 2509., 2549., 2510.,\n",
       "       2550., 2511., 2551., 2512., 2552., 2553., 2544., 2584., 2545.,\n",
       "       2585., 2546., 2586., 2547., 2587., 2548., 2588., 2549., 2589.,\n",
       "       2550., 2590., 2551., 2591., 2552., 2592., 2553., 2593., 2554.,\n",
       "       2594., 2595., 2585., 2625., 2586., 2626., 2587., 2627., 2588.,\n",
       "       2628., 2589., 2629., 2590., 2630., 2591., 2631., 2592., 2632.,\n",
       "       2593., 2633., 2594., 2634., 2595., 2635., 2596., 2636., 2637.,\n",
       "       2626., 2627., 2667., 2628., 2668., 2629., 2630., 2670., 2631.,\n",
       "       2671., 2632., 2672., 2633., 2673., 2634., 2674., 2635., 2675.,\n",
       "       2636., 2676., 2637., 2677., 2638., 2678., 2639., 2679., 2640.,\n",
       "       2680., 2681., 2668., 2708., 2709., 2671., 2711., 2672., 2712.,\n",
       "       2673., 2713., 2674., 2714., 2675., 2715., 2676., 2716., 2677.,\n",
       "       2717., 2678., 2718., 2679., 2719., 2680., 2720., 2681., 2721.,\n",
       "       2682., 2722., 2683., 2708., 2748., 2709., 2749., 2710., 2750.,\n",
       "       2711., 2751., 2712., 2752., 2713., 2753., 2714., 2754., 2715.,\n",
       "       2755., 2716., 2756., 2717., 2757., 2718., 2719., 2720., 2721.,\n",
       "       2761., 2722., 2762., 2763., 2749., 2789., 2750., 2790., 2751.,\n",
       "       2752., 2792., 2753., 2793., 2754., 2794., 2755., 2795., 2756.,\n",
       "       2796., 2757., 2762., 2802., 2763., 2803., 2790., 2830., 2831.,\n",
       "       2793., 2833., 2794., 2834., 2795., 2835., 2796., 2836., 2837.,\n",
       "       2803., 2831., 2871., 2832., 2872., 2833., 2873., 2834., 2874.,\n",
       "       2835., 2875., 2836., 2876., 2837., 2877., 2878., 2872., 2912.,\n",
       "       2873., 2913., 2874., 2914., 2875., 2915., 2876., 2916., 2877.,\n",
       "       2917., 2878., 2879., 2913., 2914., 2954., 2915., 2955., 2916.,\n",
       "       2956., 2917., 2957., 2958., 2955., 2995., 2956., 2996., 2957.,\n",
       "       2997., 2958., 2998., 2999., 2996., 3036., 2997., 3037., 2998.,\n",
       "       3038., 2999., 3039., 3040., 3037., 3077., 3038., 3078., 3039.,\n",
       "       3079., 3040., 3080., 3081., 3078., 3079., 3119., 3080., 3081.])"
      ]
     },
     "execution_count": 102,
     "metadata": {},
     "output_type": "execute_result"
    }
   ],
   "source": [
    "node2"
   ]
  },
  {
   "cell_type": "markdown",
   "metadata": {},
   "source": [
    "These are indexes on the full dataset. I want to reduce it to just extreme locations."
   ]
  },
  {
   "cell_type": "code",
   "execution_count": 103,
   "metadata": {},
   "outputs": [],
   "source": [
    "mask = mask.iloc[::-1]\n",
    "df_list = mask.to_numpy().flatten(order='F').tolist()"
   ]
  },
  {
   "cell_type": "code",
   "execution_count": 104,
   "metadata": {},
   "outputs": [],
   "source": [
    "extreme_indices = [i for i, val in enumerate(df_list) if val]\n",
    "\n",
    "extreme_to_new_idx = {extreme_indices[i] + 1: i + 1 for i in range(len(extreme_indices))}"
   ]
  },
  {
   "cell_type": "code",
   "execution_count": 105,
   "metadata": {},
   "outputs": [],
   "source": [
    "node1_reduced = []\n",
    "node2_reduced = []\n",
    "\n",
    "for i in range(len(node1)):\n",
    "\n",
    "    node1_reduced.append(extreme_to_new_idx[int(node1[i])])\n",
    "    node2_reduced.append(extreme_to_new_idx[int(node2[i])])"
   ]
  },
  {
   "cell_type": "markdown",
   "metadata": {},
   "source": [
    "Repeat the same but for the correlation matrix now. The neighbours of the correlation between node i and j are the correlations between i and its neigbours and correlations between j and its neighbours."
   ]
  },
  {
   "cell_type": "code",
   "execution_count": 106,
   "metadata": {},
   "outputs": [],
   "source": [
    "reversed_map = {v: k for k, v in extreme_to_new_idx.items()}"
   ]
  },
  {
   "cell_type": "code",
   "execution_count": 107,
   "metadata": {},
   "outputs": [
    {
     "data": {
      "text/plain": [
       "[3]"
      ]
     },
     "execution_count": 107,
     "metadata": {},
     "output_type": "execute_result"
    }
   ],
   "source": [
    "def find_indices(value, arr):\n",
    "    \n",
    "    return [i for i,x in enumerate(arr) if x == value]\n",
    "\n",
    "find_indices(3, node1_reduced)"
   ]
  },
  {
   "cell_type": "code",
   "execution_count": 108,
   "metadata": {},
   "outputs": [],
   "source": [
    "#Assume I have a flattened rho matrix, i want to made a rho_node1 and rho_node1\n",
    "\n",
    "rho_node1 = []\n",
    "rho_node2 = []\n",
    "\n",
    "N = sum(df_list)\n",
    "\n",
    "neighbours_full = adj_complete.sum(axis=1)\n",
    "\n",
    "for k in range(len(node1_reduced)):\n",
    "\n",
    "    i = node1_reduced[k]\n",
    "    j = node2_reduced[k]\n",
    "\n",
    "    count = int(neighbours_full[reversed_map[i]-1]) + int(neighbours_full[reversed_map[j]-1]) - 2 #Don't want to count the i,j edge\n",
    "\n",
    "    if count > 0:\n",
    "\n",
    "        for m in range(count):\n",
    "\n",
    "            rho_node1.append((i-1)*N + j)\n",
    "\n",
    "    for a in find_indices(i, node1_reduced):\n",
    "\n",
    "        if node2_reduced[a] != j:\n",
    "\n",
    "            rho_node2.append((i-1)*N + node2_reduced[a])\n",
    "\n",
    "    for a in find_indices(i, node2_reduced):\n",
    "\n",
    "        if node1_reduced[a] != j:\n",
    "\n",
    "            rho_node2.append((node1_reduced[a]-1)*N + i)\n",
    "\n",
    "    for a in find_indices(j, node1_reduced):\n",
    "\n",
    "        if node2_reduced[a] != i:\n",
    "\n",
    "            rho_node2.append((j-1)*N + node2_reduced[a])\n",
    "\n",
    "    for a in find_indices(j, node2_reduced):\n",
    "\n",
    "        if node1_reduced[a] != i:\n",
    "\n",
    "            rho_node2.append((node1_reduced[a]-1)*N + j)\n"
   ]
  },
  {
   "cell_type": "code",
   "execution_count": 109,
   "metadata": {},
   "outputs": [
    {
     "data": {
      "text/plain": [
       "True"
      ]
     },
     "execution_count": 109,
     "metadata": {},
     "output_type": "execute_result"
    }
   ],
   "source": [
    "len(rho_node1) == len(rho_node2)"
   ]
  },
  {
   "cell_type": "code",
   "execution_count": 110,
   "metadata": {},
   "outputs": [],
   "source": [
    "#Now add the case of the correlation p_ii\n",
    "\n",
    "for i in range(1,N+1):\n",
    "\n",
    "    count = int(neighbours_full[reversed_map[i]-1])\n",
    "        \n",
    "    if count > 0:\n",
    "\n",
    "        for m in range(count):\n",
    "\n",
    "            rho_node1.append((i-1)*N + i)\n",
    "\n",
    "        for a in find_indices(i, node1_reduced):\n",
    "\n",
    "            rho_node2.append((i-1)*N + node2_reduced[a])\n",
    "\n",
    "        for a in find_indices(i, node2_reduced):\n",
    "\n",
    "            rho_node2.append((node1_reduced[a]-1)*N + i)\n"
   ]
  },
  {
   "cell_type": "code",
   "execution_count": 111,
   "metadata": {},
   "outputs": [
    {
     "data": {
      "text/plain": [
       "True"
      ]
     },
     "execution_count": 111,
     "metadata": {},
     "output_type": "execute_result"
    }
   ],
   "source": [
    "len(rho_node1) == len(rho_node2)"
   ]
  },
  {
   "cell_type": "code",
   "execution_count": 112,
   "metadata": {},
   "outputs": [
    {
     "data": {
      "text/plain": [
       "2222"
      ]
     },
     "execution_count": 112,
     "metadata": {},
     "output_type": "execute_result"
    }
   ],
   "source": [
    "len(rho_node1)"
   ]
  },
  {
   "cell_type": "markdown",
   "metadata": {},
   "source": [
    "Now I want to export these lists so I can use them in R"
   ]
  },
  {
   "cell_type": "code",
   "execution_count": 114,
   "metadata": {},
   "outputs": [],
   "source": [
    "np.savetxt(\"pre_icar_data/node1.csv\", node1_reduced, delimiter=\",\", fmt=\"%d\")\n",
    "\n",
    "np.savetxt(\"pre_icar_data/node2.csv\", node2_reduced, delimiter=\",\", fmt=\"%d\")"
   ]
  },
  {
   "cell_type": "code",
   "execution_count": 116,
   "metadata": {},
   "outputs": [],
   "source": [
    "y = speeds.ws10.loc[\"1968-07-01 00:00:00\"].unstack()"
   ]
  },
  {
   "cell_type": "code",
   "execution_count": 117,
   "metadata": {},
   "outputs": [],
   "source": [
    "lst = y.to_numpy().flatten(order='F')"
   ]
  },
  {
   "cell_type": "code",
   "execution_count": 118,
   "metadata": {},
   "outputs": [],
   "source": [
    "np.savetxt(\"pre_icar_data/y_ws10.csv\", lst[df_list], delimiter=\",\", fmt=\"%.6f\")"
   ]
  },
  {
   "cell_type": "code",
   "execution_count": 119,
   "metadata": {},
   "outputs": [],
   "source": [
    "test = rainfall.droplevel(level=[0,1])\n",
    "vals = test.set_index([test.valid_time, test.index])\n",
    "vals = vals.rename_axis(index={\"valid_time\":\"time\"})"
   ]
  },
  {
   "cell_type": "code",
   "execution_count": 120,
   "metadata": {},
   "outputs": [],
   "source": [
    "y2 = vals.tp.loc[\"1968-07-01 00:00:00\"].unstack()"
   ]
  },
  {
   "cell_type": "code",
   "execution_count": 121,
   "metadata": {},
   "outputs": [],
   "source": [
    "lst2 = y2.to_numpy()[::-1, :].flatten(order='F')"
   ]
  },
  {
   "cell_type": "code",
   "execution_count": 122,
   "metadata": {},
   "outputs": [],
   "source": [
    "np.savetxt(\"pre_icar_data/y_tp.csv\", lst2[df_list], delimiter=\",\", fmt=\"%.6f\")"
   ]
  },
  {
   "cell_type": "code",
   "execution_count": 123,
   "metadata": {},
   "outputs": [],
   "source": [
    "np.savetxt(\"pre_icar_data/rho_node1.csv\", rho_node1, delimiter=\",\", fmt=\"%d\")\n",
    "\n",
    "np.savetxt(\"pre_icar_data/rho_node2.csv\", rho_node2, delimiter=\",\", fmt=\"%d\")"
   ]
  },
  {
   "cell_type": "code",
   "execution_count": null,
   "metadata": {},
   "outputs": [],
   "source": []
  }
 ],
 "metadata": {
  "kernelspec": {
   "display_name": "M4R_venv",
   "language": "python",
   "name": "python3"
  },
  "language_info": {
   "codemirror_mode": {
    "name": "ipython",
    "version": 3
   },
   "file_extension": ".py",
   "mimetype": "text/x-python",
   "name": "python",
   "nbconvert_exporter": "python",
   "pygments_lexer": "ipython3",
   "version": "3.11.9"
  }
 },
 "nbformat": 4,
 "nbformat_minor": 2
}
