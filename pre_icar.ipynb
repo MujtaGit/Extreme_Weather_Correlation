{
 "cells": [
  {
   "cell_type": "markdown",
   "metadata": {},
   "source": [
    "This notebook is used to create the index arrays for our edges after spatial reduction to fit our model in stan in R."
   ]
  },
  {
   "cell_type": "code",
   "execution_count": 1,
   "metadata": {},
   "outputs": [],
   "source": [
    "import xarray as xr\n",
    "import numpy as np"
   ]
  },
  {
   "cell_type": "code",
   "execution_count": 2,
   "metadata": {},
   "outputs": [],
   "source": [
    "tp_quantile = 0.0013141632\n",
    "ws10_quantile = 11.48831558227539"
   ]
  },
  {
   "cell_type": "markdown",
   "metadata": {},
   "source": [
    "Let us analyse hurricane Michael for now."
   ]
  },
  {
   "cell_type": "code",
   "execution_count": 3,
   "metadata": {},
   "outputs": [
    {
     "name": "stderr",
     "output_type": "stream",
     "text": [
      "Ignoring index file '../data_grib/MICHAEL_2018_10.grib.5b7b6.idx' incompatible with GRIB file\n",
      "Ignoring index file '../data_grib/MICHAEL_2018_10.grib.5b7b6.idx' incompatible with GRIB file\n"
     ]
    }
   ],
   "source": [
    "speeds = xr.open_dataset(\"../data_grib/MICHAEL_2018_10.grib\", engine='cfgrib', backend_kwargs={'filter_by_keys': {'paramId': [165, 166]}})\n",
    "rainfall = xr.open_dataset(\"../data_grib/MICHAEL_2018_10.grib\", engine='cfgrib', backend_kwargs={'filter_by_keys': {'paramId': [228]}})\n",
    "\n",
    "speeds = speeds.to_dataframe()\n",
    "rainfall = rainfall.to_dataframe()\n",
    "\n",
    "u_speed = speeds.u10\n",
    "v_speed = speeds.v10\n",
    "ws10 = np.sqrt(u_speed**2 + v_speed**2)\n",
    "\n",
    "speeds[\"ws10\"] = ws10\n",
    "\n",
    "mask_ws10 = speeds['ws10'] > ws10_quantile\n",
    "mask_tp = rainfall['tp'] > tp_quantile\n",
    "\n",
    "temp = mask_ws10.groupby([\"latitude\", \"longitude\"]).sum()\n",
    "mask_ws10_average = temp > 0\n",
    "\n",
    "temp = mask_tp.groupby([\"latitude\", \"longitude\"]).sum()\n",
    "mask_tp_average = temp > 0\n",
    "\n",
    "combined_mask = mask_ws10_average & mask_tp_average"
   ]
  },
  {
   "cell_type": "code",
   "execution_count": 4,
   "metadata": {},
   "outputs": [],
   "source": [
    "mask = combined_mask.unstack()\n",
    "lat = mask.index.values\n",
    "lon = mask.columns.values"
   ]
  },
  {
   "cell_type": "code",
   "execution_count": 5,
   "metadata": {},
   "outputs": [
    {
     "data": {
      "text/plain": [
       "array([[0., 0., 0., ..., 0., 0., 0.],\n",
       "       [0., 0., 0., ..., 0., 0., 0.],\n",
       "       [0., 0., 0., ..., 0., 0., 0.],\n",
       "       ...,\n",
       "       [0., 0., 0., ..., 0., 0., 0.],\n",
       "       [0., 0., 0., ..., 0., 0., 0.],\n",
       "       [0., 0., 0., ..., 0., 0., 0.]])"
      ]
     },
     "execution_count": 5,
     "metadata": {},
     "output_type": "execute_result"
    }
   ],
   "source": [
    "# Initialise our adjacency matrix which would be NxN\n",
    "\n",
    "N = len(lat)*len(lon)\n",
    "adj = np.zeros((N, N))\n",
    "\n",
    "adj"
   ]
  },
  {
   "cell_type": "code",
   "execution_count": 6,
   "metadata": {},
   "outputs": [],
   "source": [
    "# Define a function to check if node i is kept after spatial reduction\n",
    "\n",
    "lat_temp = lat[::-1]\n",
    "\n",
    "def retained(mask, i):\n",
    "\n",
    "    lat_i = i % len(lat)\n",
    "    lon_i = i // len(lat)\n",
    "\n",
    "    return mask.loc[lat_temp[lat_i], lon[lon_i]]"
   ]
  },
  {
   "cell_type": "code",
   "execution_count": 55,
   "metadata": {},
   "outputs": [],
   "source": [
    "# Start filling out the matrix where Aij = 1 if i and j are neighbours\n",
    "# Start from top left of the map i.e lon = 95, lat = 32 and go down\n",
    "\n",
    "i,j = 0,0\n",
    "\n",
    "# Fill in the upper triangular of the matrix\n",
    "\n",
    "for i in range(0,N):\n",
    "\n",
    "    #Check if node i is retained\n",
    "\n",
    "    if retained(mask, i):\n",
    "\n",
    "        for j in range(i+1,N):\n",
    "            \n",
    "            # Check if node j is retained\n",
    "                \n",
    "            if retained(mask, j):\n",
    "\n",
    "                # Check if nodes i and j are neigbours\n",
    "\n",
    "                lat_i, lon_i = i % len(lat), i // len(lat)\n",
    "                lat_j, lon_j = j % len(lat), j // len(lat)\n",
    "\n",
    "                if lat_i == lat_j and abs(lon_j - lon_i) == 1:\n",
    "\n",
    "                    adj[i,j] = 1\n",
    "\n",
    "                elif lon_i == lon_j and abs(lat_i - lat_j) == 1:\n",
    "\n",
    "                    adj[i,j] = 1\n"
   ]
  },
  {
   "cell_type": "code",
   "execution_count": 56,
   "metadata": {},
   "outputs": [],
   "source": [
    "# Filling in the lower triangular\n",
    "adj_complete = adj + adj.T"
   ]
  },
  {
   "cell_type": "markdown",
   "metadata": {},
   "source": [
    "Now I want to convert the Adjacency Matrix into two lists defining all our edges."
   ]
  },
  {
   "cell_type": "code",
   "execution_count": 58,
   "metadata": {},
   "outputs": [
    {
     "data": {
      "text/plain": [
       "3515"
      ]
     },
     "execution_count": 58,
     "metadata": {},
     "output_type": "execute_result"
    }
   ],
   "source": [
    "N_edges = int(adj.sum())\n",
    "N_edges"
   ]
  },
  {
   "cell_type": "code",
   "execution_count": 59,
   "metadata": {},
   "outputs": [],
   "source": [
    "node1 = np.zeros(N_edges)\n",
    "node2 = np.zeros(N_edges)"
   ]
  },
  {
   "cell_type": "code",
   "execution_count": 65,
   "metadata": {},
   "outputs": [
    {
     "data": {
      "text/plain": [
       "array([0., 0., 0., ..., 0., 0., 0.], shape=(4141,))"
      ]
     },
     "execution_count": 65,
     "metadata": {},
     "output_type": "execute_result"
    }
   ],
   "source": [
    "# This is the number of neighbours each node has, we are using the upper triangular to avoid a double count\n",
    "# i.e if nodes 3 and 9 are neigbours, we will only consider 3 --> 9 and not 9 --> 3.\n",
    "neighbours = adj.sum(axis=1)\n",
    "neighbours"
   ]
  },
  {
   "cell_type": "code",
   "execution_count": 82,
   "metadata": {},
   "outputs": [],
   "source": [
    "i = 0\n",
    "\n",
    "for k in range(len(neighbours)):\n",
    "\n",
    "    count = int(neighbours[k])\n",
    "    \n",
    "    if count != 0:\n",
    "\n",
    "        locations = np.nonzero(adj[k])\n",
    "\n",
    "        for m in range(count):\n",
    "\n",
    "            # node1 stores the start index of the edges\n",
    "            node1[i] = k+1\n",
    "\n",
    "            # node2 stores the end index of the edges\n",
    "            node2[i] = locations[0][m] + 1\n",
    "\n",
    "            i += 1 "
   ]
  },
  {
   "cell_type": "code",
   "execution_count": 86,
   "metadata": {},
   "outputs": [
    {
     "data": {
      "text/plain": [
       "array([ 835.,  875.,  875., ..., 4128., 4129., 4130.], shape=(3515,))"
      ]
     },
     "execution_count": 86,
     "metadata": {},
     "output_type": "execute_result"
    }
   ],
   "source": [
    "node1"
   ]
  },
  {
   "cell_type": "code",
   "execution_count": 84,
   "metadata": {},
   "outputs": [
    {
     "data": {
      "text/plain": [
       "array([ 876.,  876.,  916., ..., 4129., 4130., 4131.], shape=(3515,))"
      ]
     },
     "execution_count": 84,
     "metadata": {},
     "output_type": "execute_result"
    }
   ],
   "source": [
    "node2"
   ]
  },
  {
   "cell_type": "markdown",
   "metadata": {},
   "source": [
    "Now I want to export these lists so I can use them in R"
   ]
  },
  {
   "cell_type": "code",
   "execution_count": 87,
   "metadata": {},
   "outputs": [],
   "source": [
    "np.savetxt(\"node1.csv\", node1, delimiter=\",\", fmt=\"%d\")\n",
    "\n",
    "np.savetxt(\"node2.csv\", node2, delimiter=\",\", fmt=\"%d\")"
   ]
  },
  {
   "cell_type": "code",
   "execution_count": 16,
   "metadata": {},
   "outputs": [],
   "source": [
    "y = speeds.ws10.loc[\"2018-10-06 00:00:00\"].unstack()"
   ]
  },
  {
   "cell_type": "code",
   "execution_count": 20,
   "metadata": {},
   "outputs": [],
   "source": [
    "lst = y.to_numpy().flatten(order='F').tolist()"
   ]
  },
  {
   "cell_type": "code",
   "execution_count": 27,
   "metadata": {},
   "outputs": [],
   "source": [
    "np.savetxt(\"y.csv\", lst, delimiter=\",\", fmt=\"%.6f\")"
   ]
  }
 ],
 "metadata": {
  "kernelspec": {
   "display_name": "M4R_venv",
   "language": "python",
   "name": "python3"
  },
  "language_info": {
   "codemirror_mode": {
    "name": "ipython",
    "version": 3
   },
   "file_extension": ".py",
   "mimetype": "text/x-python",
   "name": "python",
   "nbconvert_exporter": "python",
   "pygments_lexer": "ipython3",
   "version": "3.11.9"
  }
 },
 "nbformat": 4,
 "nbformat_minor": 2
}
